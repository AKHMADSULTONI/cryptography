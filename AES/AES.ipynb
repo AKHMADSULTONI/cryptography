{
 "cells": [
  {
   "cell_type": "code",
   "execution_count": 18,
   "id": "33fcb59d-cf6e-4cd3-8cab-874a28b9f425",
   "metadata": {},
   "outputs": [],
   "source": [
    "import numpy as np\n",
    "import galois"
   ]
  },
  {
   "cell_type": "markdown",
   "id": "950b36a9-1f0f-4073-8bad-5b854ed81c38",
   "metadata": {},
   "source": [
    "Fungsi-fungsi yang digunakan"
   ]
  },
  {
   "cell_type": "code",
   "execution_count": 20,
   "id": "b22de683-a281-463a-82b0-6f3856fa0dce",
   "metadata": {},
   "outputs": [],
   "source": [
    "# Fungsi merubah bentuk ke matrik state\n",
    "def baris(isi):\n",
    "    temp2 = []\n",
    "    for i in range(0,8,2):\n",
    "        hex_2 = isi[i:i+2]\n",
    "        temp2.append(hex_2)\n",
    "    hasil=temp2\n",
    "    return hasil\n",
    "\n",
    "# Fungsi merubah plaintex menjadi hexadecimal\n",
    "def rubah(isi):\n",
    "    temp=\"\"\n",
    "    for k in isi:\n",
    "        hexa=hex(ord(k))[2:]\n",
    "        temp+=hexa\n",
    "    return temp\n",
    "\n",
    "# Fungsi merubah bentuk ke matrik state\n",
    "def state(isi):\n",
    "    temp=[]\n",
    "    if len(isi) < 32:\n",
    "        kosong=32-len(isi)\n",
    "        isi+=\"0\"*kosong\n",
    "    temp2 = []\n",
    "    for i in range(0,32,2):\n",
    "        hex_2 = isi[i:i+2]\n",
    "        temp2.append(hex_2)\n",
    "    hasil=np.array(temp2).reshape(4,4).T\n",
    "    return hasil\n",
    "\n",
    "# Fungsi merubah bentuk array ke kalimat\n",
    "def matriks_ke_kalimat(matriks):\n",
    "    kalimat = \"\"\n",
    "    for baris in matriks:\n",
    "        for elemen in baris:\n",
    "            kalimat += str(elemen)\n",
    "    return kalimat.strip()\n",
    "    \n",
    "# Fungsi merubah hexadecimal menjadi biner\n",
    "def hex_to_bin(hex_string):\n",
    "    scale = 16 ## equals to hexadecimal\n",
    "    num_of_bits = 4\n",
    "    return bin(int(hex_string, scale))[2:].zfill(len(hex_string) * num_of_bits)\n",
    "\n",
    "# Fungsi merubah biner menjadi hexadecimal\n",
    "def bin_to_hex(bin_string):\n",
    "    return hex(int(bin_string, 2))[2:].zfill(len(bin_string) // 4)\n",
    "\n",
    "# Fungsi hexadecimal ke bilangan\n",
    "def hex_to_int(isi):\n",
    "    return int(isi,16)"
   ]
  },
  {
   "cell_type": "markdown",
   "id": "fa8fda5c-6536-49ba-9af0-ccdbfccf72fe",
   "metadata": {},
   "source": [
    "Transformasi yang dipakai"
   ]
  },
  {
   "cell_type": "code",
   "execution_count": 5,
   "id": "82a31d74-d5eb-474a-97b3-1e59f16ae704",
   "metadata": {},
   "outputs": [],
   "source": [
    "# Fungsi melakukan xor\n",
    "def xor(isi,isi1):\n",
    "    isi1=hex_to_bin(isi1)\n",
    "    isi=hex_to_bin(isi)\n",
    "    result=\"\"\n",
    "    for i in range(len(isi)):\n",
    "        if isi[i]==isi1[i]:\n",
    "            result+=\"0\"\n",
    "        else:\n",
    "            result+=\"1\"\n",
    "    hasil=bin_to_hex(result)\n",
    "    return hasil\n",
    "\n",
    "# Fungsi SubByte()\n",
    "def SubBytes(a):\n",
    "    bit_p=[0,1,1,0,0,0,1,1]\n",
    "    c=bit_p[::-1]\n",
    "    a=hex_to_int(a)\n",
    "    polinomial=GF(a)\n",
    "    bit_pol = bin(int(polinomial))[2:].zfill(8)\n",
    "    bit_poli=bit_pol[::-1]\n",
    "    if a!=0:\n",
    "        invers=polinomial**(-1)\n",
    "        bit_inv=bin(int(invers))[2:].zfill(8)\n",
    "        bit_invers=bit_inv[::-1]\n",
    "    else:\n",
    "        bit_invers=\"00000000\"\n",
    "    b=[]\n",
    "    for i in range(8):\n",
    "        bb=int(c[i])+int(bit_invers[i])+int(bit_invers[((i+4)%8)])\n",
    "        +int(bit_invers[((i+5)%8)])+int(bit_invers[((i+6)%8)])\n",
    "        +int(bit_invers[((i+7)%8)])\n",
    "        kk=bb%2\n",
    "        b.append(kk)\n",
    "    balik=b[::-1]\n",
    "    kkk=''.join(map(str, balik))\n",
    "    hasil=bin_to_hex(kkk)\n",
    "    return hasil\n",
    "    \n",
    "# Fungsi ShitRows\n",
    "def shitrows(sb):\n",
    "    SR=[]\n",
    "    for i in range(4):\n",
    "        for j in range(4):\n",
    "            sr=sb[i][(j+i)%4]\n",
    "            SR.append(sr)\n",
    "    SR=np.array(SR).reshape(4,4)\n",
    "    return SR\n",
    "\n",
    "# Fungsi MixColumns()\n",
    "def mixcolumns(sr):\n",
    "    hasil=[]\n",
    "    a=np.array([[\"02\",\"03\",\"01\",\"01\"],\n",
    "              [\"01\",\"02\",\"03\",\"01\"],\n",
    "              [\"01\",\"01\",\"02\",\"03\"],\n",
    "              [\"03\",\"01\",\"01\",\"02\"]])\n",
    "    result_matrix=[]\n",
    "    \n",
    "    for i in range(4):\n",
    "        for j in range(4):\n",
    "            h=GF(0)\n",
    "            for k in range(4):\n",
    "                h=h+GF(hex_to_int(a[i][k]))* GF(hex_to_int(sr[k][j]))\n",
    "            bit_pol = bin(int(h))[2:].zfill(8)\n",
    "            aa=bin_to_hex(bit_pol)\n",
    "            result_matrix.append(aa)\n",
    "    hasil=np.array(result_matrix).reshape(4,4)\n",
    "    return hasil"
   ]
  },
  {
   "cell_type": "markdown",
   "id": "33b68ff3-034b-485d-bcc5-d342734f7663",
   "metadata": {},
   "source": [
    "Fungsi di Pembangkit Key"
   ]
  },
  {
   "cell_type": "code",
   "execution_count": 38,
   "id": "63a35cdf-f4b6-4716-a0c6-876340a1c970",
   "metadata": {},
   "outputs": [],
   "source": [
    "# Fungsi pergeseran 1 kali\n",
    "def rotword(w):\n",
    "    H=[]\n",
    "    for i in range(4):\n",
    "        H.append(w[(i+1)%4])\n",
    "    return H\n",
    "\n",
    "# Fungsi subword()\n",
    "def subword(w):\n",
    "    B=[]\n",
    "    for i in w:\n",
    "        B.append(SubBytes(i))\n",
    "    return B\n",
    "\n",
    "def keyexpansion(key):\n",
    "    Rcon=[]\n",
    "    for i in range(10):\n",
    "        R1=hex_to_int(\"2\")\n",
    "        polinomial=GF(R1)**i\n",
    "        bit_pol = bin(int(polinomial))[2:].zfill(8)\n",
    "        bit_poli=bit_pol[::-1]\n",
    "        h=bin_to_hex(bit_pol)+\"00\"*3\n",
    "        Rcon.append(h)\n",
    "        # print(R)\n",
    "    w=[]\n",
    "    for i in range(4):\n",
    "        x=[key[4*i*2:4*i*2+2],key[4*i*2+2:4*i*2+2+2],key[4*i*2+4:4*i*2+2+4],key[4*i*2+6:4*i*2+2+6]]\n",
    "        w.append(x)\n",
    "    for i in range(4,44):\n",
    "        temp=w[i-1]\n",
    "        if i%4 ==0:\n",
    "            temp=xor(matriks_ke_kalimat(subword(rotword(temp))),Rcon[int(i/4)-1])\n",
    "        else:\n",
    "            temp=matriks_ke_kalimat(temp)\n",
    "        hasil=xor(matriks_ke_kalimat(w[i-4]),temp)\n",
    "        w.append(baris(hasil))\n",
    "    return w"
   ]
  },
  {
   "cell_type": "code",
   "execution_count": 28,
   "id": "3b7bef37-abfd-43f6-b611-91a271bc7f34",
   "metadata": {},
   "outputs": [
    {
     "data": {
      "text/plain": [
       "<contextlib._GeneratorContextManager at 0x189d32240b0>"
      ]
     },
     "execution_count": 28,
     "metadata": {},
     "output_type": "execute_result"
    }
   ],
   "source": [
    "GF=galois.GF(2**8,irreducible_poly=galois.Poly(\n",
    "    [1, 0, 0, 0, 1, 1, 0, 1, 1],field=galois.GF(2)))\n",
    "GF.repr(\"poly\")"
   ]
  },
  {
   "cell_type": "code",
   "execution_count": 34,
   "id": "bb4fd6c3-8c54-4bb1-9904-db0f806f11b4",
   "metadata": {},
   "outputs": [],
   "source": [
    "plaintext=\"00112233445566778899aabbccddeeff\"\n",
    "key=\"000102030405060708090a0b0c0d0e0f\""
   ]
  },
  {
   "cell_type": "code",
   "execution_count": 40,
   "id": "b0d40533-7ee0-4a0f-876f-63220d6cd111",
   "metadata": {},
   "outputs": [],
   "source": [
    "st=state(plaintext)\n",
    "ky=state(key)\n",
    "kunci=keyexpansion(key)"
   ]
  },
  {
   "cell_type": "markdown",
   "id": "80feb64f-9e54-43c5-a351-209b164ba068",
   "metadata": {},
   "source": [
    "Proses looping"
   ]
  },
  {
   "cell_type": "code",
   "execution_count": 42,
   "id": "d5cae3cb-98c7-477a-8c2b-71ba46b4b4b4",
   "metadata": {},
   "outputs": [
    {
     "name": "stdout",
     "output_type": "stream",
     "text": [
      "\n",
      "kunci untuk round ke-0:  000102030405060708090a0b0c0d0e0f\n",
      "\n",
      "kunci untuk round ke-1:  d6aa74fdd2af72fadaa678f1d6ab76fe\n",
      "\n",
      "kunci untuk round ke-2:  b692cf0b643dbdf1be9bc5006830b3fe\n",
      "\n",
      "kunci untuk round ke-3:  b6ff744ed2c2c9bf6c590cbf0469bf41\n",
      "\n",
      "kunci untuk round ke-4:  47f7f7bc95353e03f96c32bcfd058dfd\n",
      "\n",
      "kunci untuk round ke-5:  3caaa3e8a99f9deb50f3af57adf622aa\n",
      "\n",
      "kunci untuk round ke-6:  5e390f7df7a69296a7553dc10aa31f6b\n",
      "\n",
      "kunci untuk round ke-7:  14f9701ae35fe28c440adf4d4ea9c026\n",
      "\n",
      "kunci untuk round ke-8:  47438735a41c65b9e016baf4aebf7ad2\n",
      "\n",
      "kunci untuk round ke-9:  549932d1f08557681093ed9cbe2c974e\n",
      "\n",
      "kunci untuk round ke-10:  13111d7fe3944a17f307a78b4d2b30c5\n"
     ]
    }
   ],
   "source": [
    "for i in range(11):\n",
    "    kun=matriks_ke_kalimat(kunci[i*4:i*4+4])\n",
    "    print(f'\\nkunci untuk round ke-{i}: ',kun)"
   ]
  },
  {
   "cell_type": "markdown",
   "id": "81243db2-d356-4a19-9359-a6cd98a9ebc5",
   "metadata": {},
   "source": [
    "Transformasi AddRoundKey"
   ]
  },
  {
   "cell_type": "code",
   "execution_count": 640,
   "id": "6192783a-6140-421d-8739-d41c46245b53",
   "metadata": {
    "scrolled": true
   },
   "outputs": [
    {
     "name": "stdout",
     "output_type": "stream",
     "text": [
      "[['00' '40' '80' 'c0']\n",
      " ['10' '50' '90' 'd0']\n",
      " ['20' '60' 'a0' 'e0']\n",
      " ['30' '70' 'b0' 'f0']]\n",
      "\n",
      "Round 1 Start:  00102030405060708090a0b0c0d0e0f0\n"
     ]
    }
   ],
   "source": [
    "addR=[]\n",
    "for i in range(4):\n",
    "    for j in range(4):\n",
    "        # print(st[j][i])\n",
    "        # print(ky[j][i])\n",
    "        hasil2=xor(st[j][i],ky[j][i])\n",
    "        addR.append(hasil2)\n",
    "addR=np.array(addR).reshape(4,4).T\n",
    "rounde=matriks_ke_kalimat(addR.T)\n",
    "print(addR)\n",
    "print('\\nRound 1 Start: ',rounde)"
   ]
  },
  {
   "cell_type": "markdown",
   "id": "f189dcd6-e665-4bf7-92ef-06709a777e98",
   "metadata": {},
   "source": [
    "Transformasi Subbyte()"
   ]
  },
  {
   "cell_type": "code",
   "execution_count": 644,
   "id": "c7e2f5bd-ed0b-4d8d-91ae-c7f9b69701e4",
   "metadata": {},
   "outputs": [
    {
     "name": "stdout",
     "output_type": "stream",
     "text": [
      "[['63' '09' 'cd' 'ba']\n",
      " ['ca' '53' '60' '70']\n",
      " ['b7' 'd0' 'e0' 'e1']\n",
      " ['04' '51' 'e7' '8c']]\n",
      "Round 1 Subbyte:  63cab7040953d051cd60e0e7ba70e18c\n"
     ]
    }
   ],
   "source": [
    "SB=[]\n",
    "for i in range(4):\n",
    "    for j in range(4):\n",
    "        hasil=SubBytes(addR[j][i])\n",
    "        SB.append(hasil)\n",
    "SB=np.array(SB).reshape(4,4).T\n",
    "rounde=matriks_ke_kalimat(SB.T)\n",
    "print(SB)\n",
    "print('Round 1 Subbyte: ',rounde)"
   ]
  },
  {
   "cell_type": "markdown",
   "id": "a9174e52-3aa7-4778-86ab-e7fbb975842b",
   "metadata": {},
   "source": [
    "ShiftRows()"
   ]
  },
  {
   "cell_type": "code",
   "execution_count": 646,
   "id": "d9f04f83-db49-424c-ab9a-88e00192a58b",
   "metadata": {},
   "outputs": [
    {
     "name": "stdout",
     "output_type": "stream",
     "text": [
      "[['63' '09' 'cd' 'ba']\n",
      " ['53' '60' '70' 'ca']\n",
      " ['e0' 'e1' 'b7' 'd0']\n",
      " ['8c' '04' '51' 'e7']]\n",
      "Round 1 ShiftRows:  6353e08c0960e104cd70b751bacad0e7\n"
     ]
    }
   ],
   "source": [
    "SR=shitrows(SB)\n",
    "rounde=matriks_ke_kalimat(SR.T)\n",
    "print(SR)\n",
    "print('Round 1 ShiftRows: ',rounde)"
   ]
  },
  {
   "attachments": {},
   "cell_type": "markdown",
   "id": "a375d99c-92e2-4022-a279-a58adc0bd01b",
   "metadata": {},
   "source": [
    "MixColumns()"
   ]
  },
  {
   "cell_type": "code",
   "execution_count": 674,
   "id": "64483e1a-f502-46eb-81be-cdf2d466983b",
   "metadata": {},
   "outputs": [
    {
     "name": "stdout",
     "output_type": "stream",
     "text": [
      "[['5f' '57' 'f7' '1d']\n",
      " ['72' 'f5' 'be' 'b9']\n",
      " ['64' 'bc' '3b' 'f9']\n",
      " ['15' '92' '29' '1a']]\n",
      "Round 1 ShiftRows:  5f72641557f5bc92f7be3b291db9f91a\n"
     ]
    }
   ],
   "source": [
    "MC=mixcolumns(SR)\n",
    "rounde=matriks_ke_kalimat(MC.T)\n",
    "print(MC)\n",
    "print('Round 1 ShiftRows: ',rounde)"
   ]
  },
  {
   "cell_type": "markdown",
   "id": "1b67fe0f-e5a8-4314-8564-f5fe412ce582",
   "metadata": {},
   "source": [
    "AddRoundKey"
   ]
  },
  {
   "cell_type": "code",
   "execution_count": 678,
   "id": "2829c737-1c12-478d-b7d5-b46f4c0feb46",
   "metadata": {},
   "outputs": [
    {
     "data": {
      "text/plain": [
       "array([['5f', '57', 'f7', '1d'],\n",
       "       ['72', 'f5', 'be', 'b9'],\n",
       "       ['64', 'bc', '3b', 'f9'],\n",
       "       ['15', '92', '29', '1a']], dtype='<U2')"
      ]
     },
     "execution_count": 678,
     "metadata": {},
     "output_type": "execute_result"
    }
   ],
   "source": [
    "st=MC\n",
    "ky=state(matriks_ke_kalimat(w[4:8]))"
   ]
  },
  {
   "cell_type": "code",
   "execution_count": 680,
   "id": "9100d8ec-ceec-4202-8f02-12630eb24c81",
   "metadata": {},
   "outputs": [
    {
     "name": "stdout",
     "output_type": "stream",
     "text": [
      "[['89' '85' '2d' 'cb']\n",
      " ['d8' '5a' '18' '12']\n",
      " ['10' 'ce' '43' '8f']\n",
      " ['e8' '68' 'd8' 'e4']]\n",
      "\n",
      "Round 2 Start:  89d810e8855ace682d1843d8cb128fe4\n"
     ]
    }
   ],
   "source": [
    "addR=[]\n",
    "for i in range(4):\n",
    "    for j in range(4):\n",
    "        hasil2=xor(st[j][i],ky[j][i])\n",
    "        addR.append(hasil2)\n",
    "addR=np.array(addR).reshape(4,4).T\n",
    "rounde=matriks_ke_kalimat(addR.T)\n",
    "print(addR)\n",
    "print('\\nRound 2 Start: ',rounde)"
   ]
  }
 ],
 "metadata": {
  "kernelspec": {
   "display_name": "Python 3 (ipykernel)",
   "language": "python",
   "name": "python3"
  },
  "language_info": {
   "codemirror_mode": {
    "name": "ipython",
    "version": 3
   },
   "file_extension": ".py",
   "mimetype": "text/x-python",
   "name": "python",
   "nbconvert_exporter": "python",
   "pygments_lexer": "ipython3",
   "version": "3.12.7"
  }
 },
 "nbformat": 4,
 "nbformat_minor": 5
}
